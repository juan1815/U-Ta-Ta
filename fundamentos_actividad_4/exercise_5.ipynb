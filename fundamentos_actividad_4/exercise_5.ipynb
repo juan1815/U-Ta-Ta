{
 "cells": [
  {
   "cell_type": "markdown",
   "id": "15b5717c",
   "metadata": {},
   "source": [
    "## Libraries"
   ]
  },
  {
   "cell_type": "code",
   "execution_count": 9,
   "id": "e7a0c288",
   "metadata": {},
   "outputs": [],
   "source": [
    "import tweepy\n",
    "import pandas as pd"
   ]
  },
  {
   "cell_type": "markdown",
   "id": "9f282a38",
   "metadata": {},
   "source": [
    "## Resource"
   ]
  },
  {
   "cell_type": "code",
   "execution_count": 10,
   "id": "f9ff8f51",
   "metadata": {},
   "outputs": [],
   "source": [
    "BEARER_TOKEN = \"AAAAAAAAAAAAAAAAAAAAABph0gEAAAAAIUQZef7Ux1L68BSqGb6GuyAadSo%3DX2tZGG6TxFL7Bv50FyeWpgYDQpFflXupRGFLeyOrUIpNcjnUsV\"\n",
    "\n",
    "Client = tweepy.Client(bearer_token=BEARER_TOKEN)"
   ]
  },
  {
   "cell_type": "markdown",
   "id": "196b4956",
   "metadata": {},
   "source": [
    "## Function principall"
   ]
  },
  {
   "cell_type": "code",
   "execution_count": 12,
   "id": "7443b4ce",
   "metadata": {},
   "outputs": [],
   "source": [
    "def obtener_tweets(usuario, cantidad=20):\n",
    "    \"\"\"\n",
    "    Obtiene informacion de los usuarios\n",
    "    \"\"\"\n",
    "    try:\n",
    "        user = Client.get_user(username=usuario)\n",
    "        user_id = user.data.id\n",
    "\n",
    "        respuesta = Client.get_users_tweets(\n",
    "            id=user_id,\n",
    "            max_results=cantidad,\n",
    "            tweet_fields=[\"created_at\", \"text\", \"lang\", \"public_metrics\"],\n",
    "            exclude=['retweets', 'replies']\n",
    "        )\n",
    "\n",
    "        tweets = []\n",
    "        if respuesta.data:\n",
    "            for tweet in respuesta.data:\n",
    "                tweets.append({\n",
    "                    \"Fecha\": tweet.created_at,\n",
    "                    \"texto\": tweet.text,\n",
    "                    \"likes\": tweet.public_metrics['like_count'],\n",
    "                    \"retweets\": tweet.public_metrics['retweet_count'],\n",
    "                    \"idioma\": tweet.lang\n",
    "                })\n",
    "        return pd.DataFrame(tweets)\n",
    "    \n",
    "    except Exception as e:\n",
    "        print(f\"Error al obtener datos: {e}\")\n",
    "        return pd.DataFrame()"
   ]
  },
  {
   "cell_type": "markdown",
   "id": "51d577fd",
   "metadata": {},
   "source": [
    "## Uso"
   ]
  },
  {
   "cell_type": "code",
   "execution_count": 13,
   "id": "9abd9256",
   "metadata": {},
   "outputs": [
    {
     "name": "stdout",
     "output_type": "stream",
     "text": [
      "Error al obtener datos: 429 Too Many Requests\n",
      "Too Many Requests\n",
      "Empty DataFrame\n",
      "Columns: []\n",
      "Index: []\n"
     ]
    }
   ],
   "source": [
    "df_tweets = obtener_tweets(\"PropositoyVida\", cantidad=20)\n",
    "print(df_tweets.head())"
   ]
  }
 ],
 "metadata": {
  "kernelspec": {
   "display_name": "extract",
   "language": "python",
   "name": "python3"
  },
  "language_info": {
   "codemirror_mode": {
    "name": "ipython",
    "version": 3
   },
   "file_extension": ".py",
   "mimetype": "text/x-python",
   "name": "python",
   "nbconvert_exporter": "python",
   "pygments_lexer": "ipython3",
   "version": "3.12.9"
  }
 },
 "nbformat": 4,
 "nbformat_minor": 5
}
